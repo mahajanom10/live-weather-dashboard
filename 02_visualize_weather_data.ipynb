{
  "nbformat": 4,
  "nbformat_minor": 0,
  "metadata": {
    "colab": {
      "provenance": [],
      "authorship_tag": "ABX9TyMJJ3+h029ybwIzXCoINoLt",
      "include_colab_link": true
    },
    "kernelspec": {
      "name": "python3",
      "display_name": "Python 3"
    },
    "language_info": {
      "name": "python"
    }
  },
  "cells": [
    {
      "cell_type": "markdown",
      "metadata": {
        "id": "view-in-github",
        "colab_type": "text"
      },
      "source": [
        "<a href=\"https://colab.research.google.com/github/mahajanom10/live-weather-dashboard/blob/main/02_visualize_weather_data.ipynb\" target=\"_parent\"><img src=\"https://colab.research.google.com/assets/colab-badge.svg\" alt=\"Open In Colab\"/></a>"
      ]
    },
    {
      "cell_type": "markdown",
      "source": [
        "# **2. 📊Creating Static Charts in Python**"
      ],
      "metadata": {
        "id": "EgcSEu06qjWq"
      }
    },
    {
      "cell_type": "markdown",
      "source": [
        "# ✅ Charts we’ll create:\n",
        "Bar chart: Temperature of each city\n",
        "\n",
        "Bar chart: Humidity levels of each city\n",
        "\n",
        "Pie chart: Weather conditions distribution (e.g., Clear, Rain, Clouds)\n",
        "\n",
        "Bar chart: Wind Speed\n"
      ],
      "metadata": {
        "id": "m68M9babrCU0"
      }
    },
    {
      "cell_type": "code",
      "source": [],
      "metadata": {
        "id": "0U3JGcSPq9Mt"
      },
      "execution_count": null,
      "outputs": []
    }
  ]
}