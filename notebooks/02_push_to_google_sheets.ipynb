{
 "cells": [
  {
   "cell_type": "markdown",
   "metadata": {},
   "source": [
    "# 🟢 02_push_to_google_sheets.ipynb\n",
    "This notebook pushes the weather data from your GitHub repo to Google Sheets."
   ]
  },
  {
   "cell_type": "code",
   "execution_count": null,
   "metadata": {},
   "outputs": [],
   "source": [
    "# 🔹 Step 1: Install required libraries\n",
    "!pip install --upgrade gspread pandas gspread_dataframe"
   ]
  },
  {
   "cell_type": "code",
   "execution_count": null,
   "metadata": {},
   "outputs": [],
   "source": [
    "# 🔹 Step 2: Authenticate and Connect to Google Sheets\n",
    "import gspread\n",
    "from google.colab import auth\n",
    "from google.auth import default\n",
    "from gspread_dataframe import set_with_dataframe\n",
    "\n",
    "auth.authenticate_user()\n",
    "creds, _ = default()\n",
    "gc = gspread.authorize(creds)"
   ]
  },
  {
   "cell_type": "code",
   "execution_count": null,
   "metadata": {},
   "outputs": [],
   "source": [
    "# 🔹 Step 3: Load CSV from GitHub\n",
    "import pandas as pd\n",
    "\n",
    "csv_url = \"https://raw.githubusercontent.com/mahajanom10/live-weather-dashboard/main/data/live_weather.csv\"\n",
    "weather_df = pd.read_csv(csv_url)\n",
    "weather_df.head()"
   ]
  },
  {
   "cell_type": "code",
   "execution_count": null,
   "metadata": {},
   "outputs": [],
   "source": [
    "# 🔹 Step 4: Push Data to Google Sheets\n",
    "spreadsheet = gc.open(\"Live Weather Log\")\n",
    "worksheet = spreadsheet.worksheet(\"WeatherData\")\n",
    "worksheet.clear()\n",
    "set_with_dataframe(worksheet, weather_df)\n",
    "\n",
    "print(\"✅ Data pushed to Google Sheet successfully.\")"
   ]
  }
 ],
 "metadata": {
  "colab": {
   "name": "02_push_to_google_sheets.ipynb",
   "provenance": []
  },
  "kernelspec": {
   "display_name": "Python 3",
   "language": "python",
   "name": "python3"
  },
  "language_info": {
   "name": "python",
   "version": ""
  }
 },
 "nbformat": 4,
 "nbformat_minor": 0
}




