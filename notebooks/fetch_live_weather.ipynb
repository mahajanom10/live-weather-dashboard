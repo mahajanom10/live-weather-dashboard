{
  "cells": [
    {
      "cell_type": "markdown",
      "metadata": {
        "id": "view-in-github",
        "colab_type": "text"
      },
      "source": [
        "<a href=\"https://colab.research.google.com/github/mahajanom10/live-weather-dashboard/blob/main/notebooks/fetch_live_weather.ipynb\" target=\"_parent\"><img src=\"https://colab.research.google.com/assets/colab-badge.svg\" alt=\"Open In Colab\"/></a>"
      ]
    },
    {
      "cell_type": "markdown",
      "metadata": {
        "id": "56dZ-aOdk1qB"
      },
      "source": [
        "# Live Weather Dashboard Project: Fetch Live Weather Data\n",
        "\n",
        "This notebook fetches live weather data from OpenWeatherMap API for a list of cities, saves the data locally in CSV format, and pushes the changes to your GitHub repository.\n",
        "\n",
        "## Steps:\n",
        "1. Load city list\n",
        "2. Fetch weather data\n",
        "3. Save as CSV\n",
        "4. GitHub integration for pushing changes\n",
        "\n",
        "---"
      ],
      "id": "56dZ-aOdk1qB"
    },
    {
      "cell_type": "code",
      "source": [
        "!git clone https://github.com/mahajanom10/live-weather-dashboard.git\n"
      ],
      "metadata": {
        "id": "s0X20KdJwLLo",
        "outputId": "38096e06-6a1f-4c9f-b70d-349dc082b2b7",
        "colab": {
          "base_uri": "https://localhost:8080/"
        }
      },
      "id": "s0X20KdJwLLo",
      "execution_count": 64,
      "outputs": [
        {
          "output_type": "stream",
          "name": "stdout",
          "text": [
            "Cloning into 'live-weather-dashboard'...\n",
            "remote: Enumerating objects: 99, done.\u001b[K\n",
            "remote: Counting objects: 100% (99/99), done.\u001b[K\n",
            "remote: Compressing objects: 100% (81/81), done.\u001b[K\n",
            "remote: Total 99 (delta 22), reused 9 (delta 2), pack-reused 0 (from 0)\u001b[K\n",
            "Receiving objects: 100% (99/99), 32.24 KiB | 1.29 MiB/s, done.\n",
            "Resolving deltas: 100% (22/22), done.\n"
          ]
        }
      ]
    },
    {
      "cell_type": "code",
      "source": [
        "import os\n",
        "import pandas as pd\n",
        "import requests\n",
        "from datetime import datetime"
      ],
      "metadata": {
        "id": "vP1qAxc8yf0q"
      },
      "id": "vP1qAxc8yf0q",
      "execution_count": 65,
      "outputs": []
    },
    {
      "cell_type": "code",
      "source": [
        "%cd live-weather-dashboard\n"
      ],
      "metadata": {
        "id": "loD0nMhKysGB",
        "outputId": "9dee6087-7ec7-45e6-a0c4-f4d531857ef2",
        "colab": {
          "base_uri": "https://localhost:8080/"
        }
      },
      "id": "loD0nMhKysGB",
      "execution_count": 66,
      "outputs": [
        {
          "output_type": "stream",
          "name": "stdout",
          "text": [
            "/content/live-weather-dashboard/live-weather-dashboard/live-weather-dashboard/live-weather-dashboard/live-weather-dashboard/live-weather-dashboard/live-weather-dashboard/live-weather-dashboard\n"
          ]
        }
      ]
    },
    {
      "cell_type": "markdown",
      "metadata": {
        "id": "fjO1h2Wzk1qF"
      },
      "source": [
        "## Load city list\n"
      ],
      "id": "fjO1h2Wzk1qF"
    },
    {
      "cell_type": "code",
      "source": [
        "cities_url = \"https://raw.githubusercontent.com/mahajanom10/live-weather-dashboard/main/data/cities.csv\"\n",
        "cities_df = pd.read_csv(cities_url)\n",
        "print(\"Cities loaded:\")\n",
        "print(cities_df.head())"
      ],
      "metadata": {
        "id": "htK7zzynyyNN",
        "outputId": "1f92a1dc-04cd-4557-9247-b47c365f702a",
        "colab": {
          "base_uri": "https://localhost:8080/"
        }
      },
      "id": "htK7zzynyyNN",
      "execution_count": 67,
      "outputs": [
        {
          "output_type": "stream",
          "name": "stdout",
          "text": [
            "Cities loaded:\n",
            "       city\n",
            "0    Mumbai\n",
            "1     Delhi\n",
            "2    London\n",
            "3  New York\n"
          ]
        }
      ]
    },
    {
      "cell_type": "markdown",
      "metadata": {
        "id": "mTa6Asgjk1qG"
      },
      "source": [
        "## Fetch Weather Data from OpenWeatherMap API\n",
        "For each city, fetch temperature, humidity, wind speed, weather condition, and timestamp."
      ],
      "id": "mTa6Asgjk1qG"
    },
    {
      "cell_type": "code",
      "source": [
        "API_KEY = \"2247c8827c0393e8ae7eb97c42183231\"  # Replace with your actual key\n",
        "BASE_URL = \"https://api.openweathermap.org/data/2.5/weather\"\n",
        "\n",
        "weather_data = []\n",
        "\n",
        "for city in cities_df['city']:\n",
        "    params = {\n",
        "        \"q\": city,\n",
        "        \"appid\": API_KEY,\n",
        "        \"units\": \"metric\"\n",
        "    }\n",
        "    response = requests.get(BASE_URL, params=params)\n",
        "    data = response.json()\n",
        "\n",
        "    if data.get('cod') == 200:\n",
        "        weather_info = {\n",
        "            \"city\": city,\n",
        "            \"temperature_c\": data['main']['temp'],\n",
        "            \"humidity_percent\": data['main']['humidity'],\n",
        "            \"wind_speed_m_s\": data['wind']['speed'],\n",
        "            \"weather\": data['weather'][0]['main'],\n",
        "            \"description\": data['weather'][0]['description'],\n",
        "            \"datetime_utc\": datetime.utcfromtimestamp(data['dt']).strftime('%Y-%m-%d %H:%M:%S')\n",
        "        }\n",
        "        weather_data.append(weather_info)\n",
        "    else:\n",
        "        print(f\"Failed for {city}: {data.get('message')}\")\n",
        "\n"
      ],
      "metadata": {
        "id": "8hooEpUYy9Eh"
      },
      "id": "8hooEpUYy9Eh",
      "execution_count": 68,
      "outputs": []
    },
    {
      "cell_type": "markdown",
      "source": [
        "create dataframe"
      ],
      "metadata": {
        "id": "bdDhWj1uzEf0"
      },
      "id": "bdDhWj1uzEf0"
    },
    {
      "cell_type": "code",
      "source": [
        "weather_df = pd.DataFrame(weather_data)\n",
        "print(\"Weather DataFrame created:\")\n",
        "print(weather_df.head())"
      ],
      "metadata": {
        "id": "rod_TYN3zIgl",
        "outputId": "71025dcc-4783-4787-e6a6-e6d1b50028c8",
        "colab": {
          "base_uri": "https://localhost:8080/"
        }
      },
      "id": "rod_TYN3zIgl",
      "execution_count": 69,
      "outputs": [
        {
          "output_type": "stream",
          "name": "stdout",
          "text": [
            "Weather DataFrame created:\n",
            "       city  temperature_c  humidity_percent  wind_speed_m_s weather  \\\n",
            "0    Mumbai          30.00                73            4.69  Clouds   \n",
            "1     Delhi          43.92                 9            5.38   Clear   \n",
            "2    London          11.32                80            1.79   Clear   \n",
            "3  New York          16.41                95            0.89  Clouds   \n",
            "\n",
            "     description         datetime_utc  \n",
            "0  broken clouds  2025-05-16 07:40:00  \n",
            "1      clear sky  2025-05-16 07:40:29  \n",
            "2      clear sky  2025-05-16 07:42:39  \n",
            "3     few clouds  2025-05-16 07:39:08  \n"
          ]
        }
      ]
    },
    {
      "cell_type": "code",
      "source": [
        "# Ensure 'data/' folder exists in the repo\n",
        "os.makedirs(\"data\", exist_ok=True)"
      ],
      "metadata": {
        "id": "37IC-24zzRLn"
      },
      "id": "37IC-24zzRLn",
      "execution_count": 70,
      "outputs": []
    },
    {
      "cell_type": "markdown",
      "metadata": {
        "id": "V8iLoBN8k1qG"
      },
      "source": [
        "## Save the weather data locally in  repo structure\n",
        "\n"
      ],
      "id": "V8iLoBN8k1qG"
    },
    {
      "cell_type": "code",
      "source": [
        "weather_df.to_csv(\"data/live_weather.csv\", index=False)\n",
        "print(\" live_weather.csv saved inside repo folder.\")"
      ],
      "metadata": {
        "id": "jEwEOcY_zU9-",
        "outputId": "f1144d0f-83df-4202-fb4d-4eeed0c3a924",
        "colab": {
          "base_uri": "https://localhost:8080/"
        }
      },
      "id": "jEwEOcY_zU9-",
      "execution_count": 71,
      "outputs": [
        {
          "output_type": "stream",
          "name": "stdout",
          "text": [
            " live_weather.csv saved inside repo folder.\n"
          ]
        }
      ]
    },
    {
      "cell_type": "markdown",
      "metadata": {
        "id": "VmHqqCSVk1qG"
      },
      "source": [
        "## GitHub Integration Commands\n"
      ],
      "id": "VmHqqCSVk1qG"
    },
    {
      "cell_type": "code",
      "source": [
        "# Git config\n",
        "!git config --global user.email \"mahajanom1121@gmail.com\"\n",
        "!git config --global user.name \"mahajanom10\""
      ],
      "metadata": {
        "id": "LLU7Nx8_zht1"
      },
      "id": "LLU7Nx8_zht1",
      "execution_count": 72,
      "outputs": []
    },
    {
      "cell_type": "markdown",
      "metadata": {
        "id": "WL-4XIRuk1qH"
      },
      "source": [
        "Move to repo folder and pull latest changes:"
      ],
      "id": "WL-4XIRuk1qH"
    },
    {
      "cell_type": "code",
      "source": [
        "!git add data/live_weather.csv\n",
        "# Move the file to correct folder\n",
        "!mv live-weather-dashboard/data/live_weather.csv data/live_weather.csv\n",
        "!git rm -r live-weather-dashboard/data\n",
        "!git commit -m \"Update live_weather.csv\"\n",
        "!git push origin main\n",
        "\n"
      ],
      "metadata": {
        "id": "857vwVJZzsDa",
        "outputId": "7834a78e-6847-43d7-e85b-00eea9f8e1c7",
        "colab": {
          "base_uri": "https://localhost:8080/"
        }
      },
      "id": "857vwVJZzsDa",
      "execution_count": 75,
      "outputs": [
        {
          "output_type": "stream",
          "name": "stdout",
          "text": [
            "mv: cannot stat 'live-weather-dashboard/data/live_weather.csv': No such file or directory\n",
            "rm 'live-weather-dashboard/data/live_weather.csv'\n",
            "[main 2cac4bb] Update live_weather.csv\n",
            " 2 files changed, 4 insertions(+), 9 deletions(-)\n",
            " delete mode 100644 live-weather-dashboard/data/live_weather.csv\n",
            "fatal: could not read Username for 'https://github.com': No such device or address\n"
          ]
        }
      ]
    }
  ],
  "metadata": {
    "kernelspec": {
      "display_name": "Python 3",
      "language": "python",
      "name": "python3"
    },
    "language_info": {
      "name": "python",
      "version": "3.11"
    },
    "colab": {
      "provenance": [],
      "include_colab_link": true
    }
  },
  "nbformat": 4,
  "nbformat_minor": 5
}