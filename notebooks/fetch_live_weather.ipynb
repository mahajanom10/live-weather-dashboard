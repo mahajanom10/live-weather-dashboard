{
 "cells": [
  {
   "cell_type": "markdown",
   "metadata": {},
   "source": [
  "import requests\n",
  "import pandas as pd\n",
  "from datetime import datetime\n",
  "\n",
  "# Replace with your OpenWeatherMap API key\n",
  "API_KEY = \"2247c8827c0393e8ae7eb97c42183231\"\n",
  "\n",
  "# Load cities list\n",
  "cities_url = \"https://raw.githubusercontent.com/mahajanom10/live-weather-dashboard/main/data/cities.csv\"\n",
  "cities_df = pd.read_csv(cities_url)\n",



    "BASE_URL = \"https://api.openweathermap.org/data/2.5/weather\"\n",
    "weather_data = []\n",
    "\n",
    "for city in cities_df['city']:\n",
    "    params = {\n",
    "        \"q\": city,\n",
    "        \"appid\": API_KEY,\n",
    "        \"units\": \"metric\"\n",
    "    }\n",
    "    response = requests.get(BASE_URL, params=params)\n",
    "    data = response.json()\n",
    "    if data.get('cod') == 200:\n",
    "        weather_info = {\n",
    "            \"city\": city,\n",
    "            \"temperature_c\": data['main']['temp'],\n",
    "            \"humidity_percent\": data['main']['humidity'],\n",
    "            \"wind_speed_m_s\": data['wind']['speed'],\n",
    "            \"weather\": data['weather'][0]['main'],\n",
    "            \"description\": data['weather'][0]['description'],\n",
    "            \"datetime_utc\": datetime.utcfromtimestamp(data['dt']).strftime('%Y-%m-%d %H:%M:%S')\n",
    "        }\n",
    "        weather_data.append(weather_info)\n",
    "    else:\n",
    "        print(f\"Could not get data for {city}: {data.get('message')}\")\n",
    "\n",
    "weather_df = pd.DataFrame(weather_data)\n",
    "weather_df.to_csv(\"data/live_weather.csv\", index=False)\n",
    "\n",
    "print(\"Weather data saved to data/live_weather.csv\")\n",
    "weather_df.head()"
   ]
  }
 ],
 "metadata": {
  "kernelspec": {
   "display_name": "Python 3",
   "language": "python",
   "name": "python3"
  },
  "language_info": {
   "name": "python",
   "version": "3.8"
  }
 },
 "nbformat": 4,
 "nbformat_minor": 5
}


