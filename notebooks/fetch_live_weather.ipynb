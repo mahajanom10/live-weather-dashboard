{
  "cells": [
    {
      "cell_type": "markdown",
      "metadata": {
        "id": "view-in-github",
        "colab_type": "text"
      },
      "source": [
        "<a href=\"https://colab.research.google.com/github/mahajanom10/live-weather-dashboard/blob/main/notebooks/fetch_live_weather.ipynb\" target=\"_parent\"><img src=\"https://colab.research.google.com/assets/colab-badge.svg\" alt=\"Open In Colab\"/></a>"
      ]
    },
    {
      "cell_type": "markdown",
      "metadata": {
        "id": "56dZ-aOdk1qB"
      },
      "source": [
        "# Live Weather Dashboard Project: Fetch Live Weather Data\n",
        "\n",
        "This notebook fetches live weather data from OpenWeatherMap API for a list of cities, saves the data locally in CSV format, and pushes the changes to your GitHub repository.\n",
        "\n",
        "## Steps:\n",
        "1. Load city list\n",
        "2. Fetch weather data\n",
        "3. Save as CSV\n",
        "4. GitHub integration for pushing changes\n",
        "\n",
        "---"
      ],
      "id": "56dZ-aOdk1qB"
    },
    {
      "cell_type": "code",
      "source": [
        "!git clone https://github.com/mahajanom10/live-weather-dashboard.git\n"
      ],
      "metadata": {
        "id": "s0X20KdJwLLo",
        "outputId": "e682527c-5ea4-4c46-cdff-4c32a4e39e1e",
        "colab": {
          "base_uri": "https://localhost:8080/"
        }
      },
      "id": "s0X20KdJwLLo",
      "execution_count": 15,
      "outputs": [
        {
          "output_type": "stream",
          "name": "stdout",
          "text": [
            "Cloning into 'live-weather-dashboard'...\n",
            "remote: Enumerating objects: 82, done.\u001b[K\n",
            "remote: Counting objects: 100% (82/82), done.\u001b[K\n",
            "remote: Compressing objects: 100% (68/68), done.\u001b[K\n",
            "remote: Total 82 (delta 16), reused 0 (delta 0), pack-reused 0 (from 0)\u001b[K\n",
            "Receiving objects: 100% (82/82), 28.32 KiB | 1.09 MiB/s, done.\n",
            "Resolving deltas: 100% (16/16), done.\n"
          ]
        }
      ]
    },
    {
      "cell_type": "code",
      "source": [
        "%cd live-weather-dashboard\n"
      ],
      "metadata": {
        "id": "Yu5c5DaCwTgj",
        "outputId": "f2a98966-9ecf-47ba-a887-93a57cb662c1",
        "colab": {
          "base_uri": "https://localhost:8080/"
        }
      },
      "id": "Yu5c5DaCwTgj",
      "execution_count": 16,
      "outputs": [
        {
          "output_type": "stream",
          "name": "stdout",
          "text": [
            "/content/live-weather-dashboard/live-weather-dashboard/live-weather-dashboard\n"
          ]
        }
      ]
    },
    {
      "cell_type": "code",
      "source": [
        "import os\n",
        "\n",
        "os.makedirs(\"data\", exist_ok=True)\n"
      ],
      "metadata": {
        "id": "wDF-3KQ1w2g0"
      },
      "id": "wDF-3KQ1w2g0",
      "execution_count": 17,
      "outputs": []
    },
    {
      "cell_type": "code",
      "execution_count": 18,
      "metadata": {
        "id": "tX5apT6Dk1qE"
      },
      "outputs": [],
      "source": [
        "# Import libraries\n",
        "import requests\n",
        "import pandas as pd\n",
        "from datetime import datetime"
      ],
      "id": "tX5apT6Dk1qE"
    },
    {
      "cell_type": "markdown",
      "metadata": {
        "id": "fjO1h2Wzk1qF"
      },
      "source": [
        "## Load city list\n"
      ],
      "id": "fjO1h2Wzk1qF"
    },
    {
      "cell_type": "code",
      "execution_count": 19,
      "metadata": {
        "id": "1AeGgSXgk1qF",
        "colab": {
          "base_uri": "https://localhost:8080/",
          "height": 175
        },
        "outputId": "ca30a048-175b-48d1-ad05-0cc75d912c89"
      },
      "outputs": [
        {
          "output_type": "execute_result",
          "data": {
            "text/plain": [
              "       city\n",
              "0    Mumbai\n",
              "1     Delhi\n",
              "2    London\n",
              "3  New York"
            ],
            "text/html": [
              "\n",
              "  <div id=\"df-a167c43b-8f5e-4961-b3b0-2f4ec1e07f9a\" class=\"colab-df-container\">\n",
              "    <div>\n",
              "<style scoped>\n",
              "    .dataframe tbody tr th:only-of-type {\n",
              "        vertical-align: middle;\n",
              "    }\n",
              "\n",
              "    .dataframe tbody tr th {\n",
              "        vertical-align: top;\n",
              "    }\n",
              "\n",
              "    .dataframe thead th {\n",
              "        text-align: right;\n",
              "    }\n",
              "</style>\n",
              "<table border=\"1\" class=\"dataframe\">\n",
              "  <thead>\n",
              "    <tr style=\"text-align: right;\">\n",
              "      <th></th>\n",
              "      <th>city</th>\n",
              "    </tr>\n",
              "  </thead>\n",
              "  <tbody>\n",
              "    <tr>\n",
              "      <th>0</th>\n",
              "      <td>Mumbai</td>\n",
              "    </tr>\n",
              "    <tr>\n",
              "      <th>1</th>\n",
              "      <td>Delhi</td>\n",
              "    </tr>\n",
              "    <tr>\n",
              "      <th>2</th>\n",
              "      <td>London</td>\n",
              "    </tr>\n",
              "    <tr>\n",
              "      <th>3</th>\n",
              "      <td>New York</td>\n",
              "    </tr>\n",
              "  </tbody>\n",
              "</table>\n",
              "</div>\n",
              "    <div class=\"colab-df-buttons\">\n",
              "\n",
              "  <div class=\"colab-df-container\">\n",
              "    <button class=\"colab-df-convert\" onclick=\"convertToInteractive('df-a167c43b-8f5e-4961-b3b0-2f4ec1e07f9a')\"\n",
              "            title=\"Convert this dataframe to an interactive table.\"\n",
              "            style=\"display:none;\">\n",
              "\n",
              "  <svg xmlns=\"http://www.w3.org/2000/svg\" height=\"24px\" viewBox=\"0 -960 960 960\">\n",
              "    <path d=\"M120-120v-720h720v720H120Zm60-500h600v-160H180v160Zm220 220h160v-160H400v160Zm0 220h160v-160H400v160ZM180-400h160v-160H180v160Zm440 0h160v-160H620v160ZM180-180h160v-160H180v160Zm440 0h160v-160H620v160Z\"/>\n",
              "  </svg>\n",
              "    </button>\n",
              "\n",
              "  <style>\n",
              "    .colab-df-container {\n",
              "      display:flex;\n",
              "      gap: 12px;\n",
              "    }\n",
              "\n",
              "    .colab-df-convert {\n",
              "      background-color: #E8F0FE;\n",
              "      border: none;\n",
              "      border-radius: 50%;\n",
              "      cursor: pointer;\n",
              "      display: none;\n",
              "      fill: #1967D2;\n",
              "      height: 32px;\n",
              "      padding: 0 0 0 0;\n",
              "      width: 32px;\n",
              "    }\n",
              "\n",
              "    .colab-df-convert:hover {\n",
              "      background-color: #E2EBFA;\n",
              "      box-shadow: 0px 1px 2px rgba(60, 64, 67, 0.3), 0px 1px 3px 1px rgba(60, 64, 67, 0.15);\n",
              "      fill: #174EA6;\n",
              "    }\n",
              "\n",
              "    .colab-df-buttons div {\n",
              "      margin-bottom: 4px;\n",
              "    }\n",
              "\n",
              "    [theme=dark] .colab-df-convert {\n",
              "      background-color: #3B4455;\n",
              "      fill: #D2E3FC;\n",
              "    }\n",
              "\n",
              "    [theme=dark] .colab-df-convert:hover {\n",
              "      background-color: #434B5C;\n",
              "      box-shadow: 0px 1px 3px 1px rgba(0, 0, 0, 0.15);\n",
              "      filter: drop-shadow(0px 1px 2px rgba(0, 0, 0, 0.3));\n",
              "      fill: #FFFFFF;\n",
              "    }\n",
              "  </style>\n",
              "\n",
              "    <script>\n",
              "      const buttonEl =\n",
              "        document.querySelector('#df-a167c43b-8f5e-4961-b3b0-2f4ec1e07f9a button.colab-df-convert');\n",
              "      buttonEl.style.display =\n",
              "        google.colab.kernel.accessAllowed ? 'block' : 'none';\n",
              "\n",
              "      async function convertToInteractive(key) {\n",
              "        const element = document.querySelector('#df-a167c43b-8f5e-4961-b3b0-2f4ec1e07f9a');\n",
              "        const dataTable =\n",
              "          await google.colab.kernel.invokeFunction('convertToInteractive',\n",
              "                                                    [key], {});\n",
              "        if (!dataTable) return;\n",
              "\n",
              "        const docLinkHtml = 'Like what you see? Visit the ' +\n",
              "          '<a target=\"_blank\" href=https://colab.research.google.com/notebooks/data_table.ipynb>data table notebook</a>'\n",
              "          + ' to learn more about interactive tables.';\n",
              "        element.innerHTML = '';\n",
              "        dataTable['output_type'] = 'display_data';\n",
              "        await google.colab.output.renderOutput(dataTable, element);\n",
              "        const docLink = document.createElement('div');\n",
              "        docLink.innerHTML = docLinkHtml;\n",
              "        element.appendChild(docLink);\n",
              "      }\n",
              "    </script>\n",
              "  </div>\n",
              "\n",
              "\n",
              "    <div id=\"df-2653ccd8-ba54-4d7b-a1a6-f58101fe7716\">\n",
              "      <button class=\"colab-df-quickchart\" onclick=\"quickchart('df-2653ccd8-ba54-4d7b-a1a6-f58101fe7716')\"\n",
              "                title=\"Suggest charts\"\n",
              "                style=\"display:none;\">\n",
              "\n",
              "<svg xmlns=\"http://www.w3.org/2000/svg\" height=\"24px\"viewBox=\"0 0 24 24\"\n",
              "     width=\"24px\">\n",
              "    <g>\n",
              "        <path d=\"M19 3H5c-1.1 0-2 .9-2 2v14c0 1.1.9 2 2 2h14c1.1 0 2-.9 2-2V5c0-1.1-.9-2-2-2zM9 17H7v-7h2v7zm4 0h-2V7h2v10zm4 0h-2v-4h2v4z\"/>\n",
              "    </g>\n",
              "</svg>\n",
              "      </button>\n",
              "\n",
              "<style>\n",
              "  .colab-df-quickchart {\n",
              "      --bg-color: #E8F0FE;\n",
              "      --fill-color: #1967D2;\n",
              "      --hover-bg-color: #E2EBFA;\n",
              "      --hover-fill-color: #174EA6;\n",
              "      --disabled-fill-color: #AAA;\n",
              "      --disabled-bg-color: #DDD;\n",
              "  }\n",
              "\n",
              "  [theme=dark] .colab-df-quickchart {\n",
              "      --bg-color: #3B4455;\n",
              "      --fill-color: #D2E3FC;\n",
              "      --hover-bg-color: #434B5C;\n",
              "      --hover-fill-color: #FFFFFF;\n",
              "      --disabled-bg-color: #3B4455;\n",
              "      --disabled-fill-color: #666;\n",
              "  }\n",
              "\n",
              "  .colab-df-quickchart {\n",
              "    background-color: var(--bg-color);\n",
              "    border: none;\n",
              "    border-radius: 50%;\n",
              "    cursor: pointer;\n",
              "    display: none;\n",
              "    fill: var(--fill-color);\n",
              "    height: 32px;\n",
              "    padding: 0;\n",
              "    width: 32px;\n",
              "  }\n",
              "\n",
              "  .colab-df-quickchart:hover {\n",
              "    background-color: var(--hover-bg-color);\n",
              "    box-shadow: 0 1px 2px rgba(60, 64, 67, 0.3), 0 1px 3px 1px rgba(60, 64, 67, 0.15);\n",
              "    fill: var(--button-hover-fill-color);\n",
              "  }\n",
              "\n",
              "  .colab-df-quickchart-complete:disabled,\n",
              "  .colab-df-quickchart-complete:disabled:hover {\n",
              "    background-color: var(--disabled-bg-color);\n",
              "    fill: var(--disabled-fill-color);\n",
              "    box-shadow: none;\n",
              "  }\n",
              "\n",
              "  .colab-df-spinner {\n",
              "    border: 2px solid var(--fill-color);\n",
              "    border-color: transparent;\n",
              "    border-bottom-color: var(--fill-color);\n",
              "    animation:\n",
              "      spin 1s steps(1) infinite;\n",
              "  }\n",
              "\n",
              "  @keyframes spin {\n",
              "    0% {\n",
              "      border-color: transparent;\n",
              "      border-bottom-color: var(--fill-color);\n",
              "      border-left-color: var(--fill-color);\n",
              "    }\n",
              "    20% {\n",
              "      border-color: transparent;\n",
              "      border-left-color: var(--fill-color);\n",
              "      border-top-color: var(--fill-color);\n",
              "    }\n",
              "    30% {\n",
              "      border-color: transparent;\n",
              "      border-left-color: var(--fill-color);\n",
              "      border-top-color: var(--fill-color);\n",
              "      border-right-color: var(--fill-color);\n",
              "    }\n",
              "    40% {\n",
              "      border-color: transparent;\n",
              "      border-right-color: var(--fill-color);\n",
              "      border-top-color: var(--fill-color);\n",
              "    }\n",
              "    60% {\n",
              "      border-color: transparent;\n",
              "      border-right-color: var(--fill-color);\n",
              "    }\n",
              "    80% {\n",
              "      border-color: transparent;\n",
              "      border-right-color: var(--fill-color);\n",
              "      border-bottom-color: var(--fill-color);\n",
              "    }\n",
              "    90% {\n",
              "      border-color: transparent;\n",
              "      border-bottom-color: var(--fill-color);\n",
              "    }\n",
              "  }\n",
              "</style>\n",
              "\n",
              "      <script>\n",
              "        async function quickchart(key) {\n",
              "          const quickchartButtonEl =\n",
              "            document.querySelector('#' + key + ' button');\n",
              "          quickchartButtonEl.disabled = true;  // To prevent multiple clicks.\n",
              "          quickchartButtonEl.classList.add('colab-df-spinner');\n",
              "          try {\n",
              "            const charts = await google.colab.kernel.invokeFunction(\n",
              "                'suggestCharts', [key], {});\n",
              "          } catch (error) {\n",
              "            console.error('Error during call to suggestCharts:', error);\n",
              "          }\n",
              "          quickchartButtonEl.classList.remove('colab-df-spinner');\n",
              "          quickchartButtonEl.classList.add('colab-df-quickchart-complete');\n",
              "        }\n",
              "        (() => {\n",
              "          let quickchartButtonEl =\n",
              "            document.querySelector('#df-2653ccd8-ba54-4d7b-a1a6-f58101fe7716 button');\n",
              "          quickchartButtonEl.style.display =\n",
              "            google.colab.kernel.accessAllowed ? 'block' : 'none';\n",
              "        })();\n",
              "      </script>\n",
              "    </div>\n",
              "\n",
              "    </div>\n",
              "  </div>\n"
            ],
            "application/vnd.google.colaboratory.intrinsic+json": {
              "type": "dataframe",
              "variable_name": "cities_df",
              "summary": "{\n  \"name\": \"cities_df\",\n  \"rows\": 4,\n  \"fields\": [\n    {\n      \"column\": \"city\",\n      \"properties\": {\n        \"dtype\": \"string\",\n        \"num_unique_values\": 4,\n        \"samples\": [\n          \"Delhi\",\n          \"New York\",\n          \"Mumbai\"\n        ],\n        \"semantic_type\": \"\",\n        \"description\": \"\"\n      }\n    }\n  ]\n}"
            }
          },
          "metadata": {},
          "execution_count": 19
        }
      ],
      "source": [
        "# Load city list from GitHub raw URL\n",
        "cities_url = \"https://raw.githubusercontent.com/mahajanom10/live-weather-dashboard/main/data/cities.csv\"\n",
        "cities_df = pd.read_csv(cities_url)\n",
        "cities_df.head()"
      ],
      "id": "1AeGgSXgk1qF"
    },
    {
      "cell_type": "markdown",
      "metadata": {
        "id": "mTa6Asgjk1qG"
      },
      "source": [
        "## Fetch Weather Data from OpenWeatherMap API\n",
        "For each city, fetch temperature, humidity, wind speed, weather condition, and timestamp."
      ],
      "id": "mTa6Asgjk1qG"
    },
    {
      "cell_type": "code",
      "execution_count": 20,
      "metadata": {
        "id": "jnLwWEsHk1qG",
        "colab": {
          "base_uri": "https://localhost:8080/",
          "height": 175
        },
        "outputId": "9f19d64d-ec14-48eb-8c92-f97ce41739d5"
      },
      "outputs": [
        {
          "output_type": "execute_result",
          "data": {
            "text/plain": [
              "       city  temperature_c  humidity_percent  wind_speed_m_s weather  \\\n",
              "0    Mumbai          29.45                76            4.03  Clouds   \n",
              "1     Delhi          42.62                 9            3.68  Clouds   \n",
              "2    London           8.68                90            2.24   Clear   \n",
              "3  New York          16.31                95            1.79  Clouds   \n",
              "\n",
              "        description         datetime_utc  \n",
              "0     broken clouds  2025-05-16 06:19:44  \n",
              "1        few clouds  2025-05-16 06:19:32  \n",
              "2         clear sky  2025-05-16 06:19:19  \n",
              "3  scattered clouds  2025-05-16 06:20:33  "
            ],
            "text/html": [
              "\n",
              "  <div id=\"df-b8680de9-b0bd-4abe-b1c9-abea464a2610\" class=\"colab-df-container\">\n",
              "    <div>\n",
              "<style scoped>\n",
              "    .dataframe tbody tr th:only-of-type {\n",
              "        vertical-align: middle;\n",
              "    }\n",
              "\n",
              "    .dataframe tbody tr th {\n",
              "        vertical-align: top;\n",
              "    }\n",
              "\n",
              "    .dataframe thead th {\n",
              "        text-align: right;\n",
              "    }\n",
              "</style>\n",
              "<table border=\"1\" class=\"dataframe\">\n",
              "  <thead>\n",
              "    <tr style=\"text-align: right;\">\n",
              "      <th></th>\n",
              "      <th>city</th>\n",
              "      <th>temperature_c</th>\n",
              "      <th>humidity_percent</th>\n",
              "      <th>wind_speed_m_s</th>\n",
              "      <th>weather</th>\n",
              "      <th>description</th>\n",
              "      <th>datetime_utc</th>\n",
              "    </tr>\n",
              "  </thead>\n",
              "  <tbody>\n",
              "    <tr>\n",
              "      <th>0</th>\n",
              "      <td>Mumbai</td>\n",
              "      <td>29.45</td>\n",
              "      <td>76</td>\n",
              "      <td>4.03</td>\n",
              "      <td>Clouds</td>\n",
              "      <td>broken clouds</td>\n",
              "      <td>2025-05-16 06:19:44</td>\n",
              "    </tr>\n",
              "    <tr>\n",
              "      <th>1</th>\n",
              "      <td>Delhi</td>\n",
              "      <td>42.62</td>\n",
              "      <td>9</td>\n",
              "      <td>3.68</td>\n",
              "      <td>Clouds</td>\n",
              "      <td>few clouds</td>\n",
              "      <td>2025-05-16 06:19:32</td>\n",
              "    </tr>\n",
              "    <tr>\n",
              "      <th>2</th>\n",
              "      <td>London</td>\n",
              "      <td>8.68</td>\n",
              "      <td>90</td>\n",
              "      <td>2.24</td>\n",
              "      <td>Clear</td>\n",
              "      <td>clear sky</td>\n",
              "      <td>2025-05-16 06:19:19</td>\n",
              "    </tr>\n",
              "    <tr>\n",
              "      <th>3</th>\n",
              "      <td>New York</td>\n",
              "      <td>16.31</td>\n",
              "      <td>95</td>\n",
              "      <td>1.79</td>\n",
              "      <td>Clouds</td>\n",
              "      <td>scattered clouds</td>\n",
              "      <td>2025-05-16 06:20:33</td>\n",
              "    </tr>\n",
              "  </tbody>\n",
              "</table>\n",
              "</div>\n",
              "    <div class=\"colab-df-buttons\">\n",
              "\n",
              "  <div class=\"colab-df-container\">\n",
              "    <button class=\"colab-df-convert\" onclick=\"convertToInteractive('df-b8680de9-b0bd-4abe-b1c9-abea464a2610')\"\n",
              "            title=\"Convert this dataframe to an interactive table.\"\n",
              "            style=\"display:none;\">\n",
              "\n",
              "  <svg xmlns=\"http://www.w3.org/2000/svg\" height=\"24px\" viewBox=\"0 -960 960 960\">\n",
              "    <path d=\"M120-120v-720h720v720H120Zm60-500h600v-160H180v160Zm220 220h160v-160H400v160Zm0 220h160v-160H400v160ZM180-400h160v-160H180v160Zm440 0h160v-160H620v160ZM180-180h160v-160H180v160Zm440 0h160v-160H620v160Z\"/>\n",
              "  </svg>\n",
              "    </button>\n",
              "\n",
              "  <style>\n",
              "    .colab-df-container {\n",
              "      display:flex;\n",
              "      gap: 12px;\n",
              "    }\n",
              "\n",
              "    .colab-df-convert {\n",
              "      background-color: #E8F0FE;\n",
              "      border: none;\n",
              "      border-radius: 50%;\n",
              "      cursor: pointer;\n",
              "      display: none;\n",
              "      fill: #1967D2;\n",
              "      height: 32px;\n",
              "      padding: 0 0 0 0;\n",
              "      width: 32px;\n",
              "    }\n",
              "\n",
              "    .colab-df-convert:hover {\n",
              "      background-color: #E2EBFA;\n",
              "      box-shadow: 0px 1px 2px rgba(60, 64, 67, 0.3), 0px 1px 3px 1px rgba(60, 64, 67, 0.15);\n",
              "      fill: #174EA6;\n",
              "    }\n",
              "\n",
              "    .colab-df-buttons div {\n",
              "      margin-bottom: 4px;\n",
              "    }\n",
              "\n",
              "    [theme=dark] .colab-df-convert {\n",
              "      background-color: #3B4455;\n",
              "      fill: #D2E3FC;\n",
              "    }\n",
              "\n",
              "    [theme=dark] .colab-df-convert:hover {\n",
              "      background-color: #434B5C;\n",
              "      box-shadow: 0px 1px 3px 1px rgba(0, 0, 0, 0.15);\n",
              "      filter: drop-shadow(0px 1px 2px rgba(0, 0, 0, 0.3));\n",
              "      fill: #FFFFFF;\n",
              "    }\n",
              "  </style>\n",
              "\n",
              "    <script>\n",
              "      const buttonEl =\n",
              "        document.querySelector('#df-b8680de9-b0bd-4abe-b1c9-abea464a2610 button.colab-df-convert');\n",
              "      buttonEl.style.display =\n",
              "        google.colab.kernel.accessAllowed ? 'block' : 'none';\n",
              "\n",
              "      async function convertToInteractive(key) {\n",
              "        const element = document.querySelector('#df-b8680de9-b0bd-4abe-b1c9-abea464a2610');\n",
              "        const dataTable =\n",
              "          await google.colab.kernel.invokeFunction('convertToInteractive',\n",
              "                                                    [key], {});\n",
              "        if (!dataTable) return;\n",
              "\n",
              "        const docLinkHtml = 'Like what you see? Visit the ' +\n",
              "          '<a target=\"_blank\" href=https://colab.research.google.com/notebooks/data_table.ipynb>data table notebook</a>'\n",
              "          + ' to learn more about interactive tables.';\n",
              "        element.innerHTML = '';\n",
              "        dataTable['output_type'] = 'display_data';\n",
              "        await google.colab.output.renderOutput(dataTable, element);\n",
              "        const docLink = document.createElement('div');\n",
              "        docLink.innerHTML = docLinkHtml;\n",
              "        element.appendChild(docLink);\n",
              "      }\n",
              "    </script>\n",
              "  </div>\n",
              "\n",
              "\n",
              "    <div id=\"df-19922f71-c06b-47b4-9d41-b5bab211b169\">\n",
              "      <button class=\"colab-df-quickchart\" onclick=\"quickchart('df-19922f71-c06b-47b4-9d41-b5bab211b169')\"\n",
              "                title=\"Suggest charts\"\n",
              "                style=\"display:none;\">\n",
              "\n",
              "<svg xmlns=\"http://www.w3.org/2000/svg\" height=\"24px\"viewBox=\"0 0 24 24\"\n",
              "     width=\"24px\">\n",
              "    <g>\n",
              "        <path d=\"M19 3H5c-1.1 0-2 .9-2 2v14c0 1.1.9 2 2 2h14c1.1 0 2-.9 2-2V5c0-1.1-.9-2-2-2zM9 17H7v-7h2v7zm4 0h-2V7h2v10zm4 0h-2v-4h2v4z\"/>\n",
              "    </g>\n",
              "</svg>\n",
              "      </button>\n",
              "\n",
              "<style>\n",
              "  .colab-df-quickchart {\n",
              "      --bg-color: #E8F0FE;\n",
              "      --fill-color: #1967D2;\n",
              "      --hover-bg-color: #E2EBFA;\n",
              "      --hover-fill-color: #174EA6;\n",
              "      --disabled-fill-color: #AAA;\n",
              "      --disabled-bg-color: #DDD;\n",
              "  }\n",
              "\n",
              "  [theme=dark] .colab-df-quickchart {\n",
              "      --bg-color: #3B4455;\n",
              "      --fill-color: #D2E3FC;\n",
              "      --hover-bg-color: #434B5C;\n",
              "      --hover-fill-color: #FFFFFF;\n",
              "      --disabled-bg-color: #3B4455;\n",
              "      --disabled-fill-color: #666;\n",
              "  }\n",
              "\n",
              "  .colab-df-quickchart {\n",
              "    background-color: var(--bg-color);\n",
              "    border: none;\n",
              "    border-radius: 50%;\n",
              "    cursor: pointer;\n",
              "    display: none;\n",
              "    fill: var(--fill-color);\n",
              "    height: 32px;\n",
              "    padding: 0;\n",
              "    width: 32px;\n",
              "  }\n",
              "\n",
              "  .colab-df-quickchart:hover {\n",
              "    background-color: var(--hover-bg-color);\n",
              "    box-shadow: 0 1px 2px rgba(60, 64, 67, 0.3), 0 1px 3px 1px rgba(60, 64, 67, 0.15);\n",
              "    fill: var(--button-hover-fill-color);\n",
              "  }\n",
              "\n",
              "  .colab-df-quickchart-complete:disabled,\n",
              "  .colab-df-quickchart-complete:disabled:hover {\n",
              "    background-color: var(--disabled-bg-color);\n",
              "    fill: var(--disabled-fill-color);\n",
              "    box-shadow: none;\n",
              "  }\n",
              "\n",
              "  .colab-df-spinner {\n",
              "    border: 2px solid var(--fill-color);\n",
              "    border-color: transparent;\n",
              "    border-bottom-color: var(--fill-color);\n",
              "    animation:\n",
              "      spin 1s steps(1) infinite;\n",
              "  }\n",
              "\n",
              "  @keyframes spin {\n",
              "    0% {\n",
              "      border-color: transparent;\n",
              "      border-bottom-color: var(--fill-color);\n",
              "      border-left-color: var(--fill-color);\n",
              "    }\n",
              "    20% {\n",
              "      border-color: transparent;\n",
              "      border-left-color: var(--fill-color);\n",
              "      border-top-color: var(--fill-color);\n",
              "    }\n",
              "    30% {\n",
              "      border-color: transparent;\n",
              "      border-left-color: var(--fill-color);\n",
              "      border-top-color: var(--fill-color);\n",
              "      border-right-color: var(--fill-color);\n",
              "    }\n",
              "    40% {\n",
              "      border-color: transparent;\n",
              "      border-right-color: var(--fill-color);\n",
              "      border-top-color: var(--fill-color);\n",
              "    }\n",
              "    60% {\n",
              "      border-color: transparent;\n",
              "      border-right-color: var(--fill-color);\n",
              "    }\n",
              "    80% {\n",
              "      border-color: transparent;\n",
              "      border-right-color: var(--fill-color);\n",
              "      border-bottom-color: var(--fill-color);\n",
              "    }\n",
              "    90% {\n",
              "      border-color: transparent;\n",
              "      border-bottom-color: var(--fill-color);\n",
              "    }\n",
              "  }\n",
              "</style>\n",
              "\n",
              "      <script>\n",
              "        async function quickchart(key) {\n",
              "          const quickchartButtonEl =\n",
              "            document.querySelector('#' + key + ' button');\n",
              "          quickchartButtonEl.disabled = true;  // To prevent multiple clicks.\n",
              "          quickchartButtonEl.classList.add('colab-df-spinner');\n",
              "          try {\n",
              "            const charts = await google.colab.kernel.invokeFunction(\n",
              "                'suggestCharts', [key], {});\n",
              "          } catch (error) {\n",
              "            console.error('Error during call to suggestCharts:', error);\n",
              "          }\n",
              "          quickchartButtonEl.classList.remove('colab-df-spinner');\n",
              "          quickchartButtonEl.classList.add('colab-df-quickchart-complete');\n",
              "        }\n",
              "        (() => {\n",
              "          let quickchartButtonEl =\n",
              "            document.querySelector('#df-19922f71-c06b-47b4-9d41-b5bab211b169 button');\n",
              "          quickchartButtonEl.style.display =\n",
              "            google.colab.kernel.accessAllowed ? 'block' : 'none';\n",
              "        })();\n",
              "      </script>\n",
              "    </div>\n",
              "\n",
              "    </div>\n",
              "  </div>\n"
            ],
            "application/vnd.google.colaboratory.intrinsic+json": {
              "type": "dataframe",
              "variable_name": "weather_df",
              "summary": "{\n  \"name\": \"weather_df\",\n  \"rows\": 4,\n  \"fields\": [\n    {\n      \"column\": \"city\",\n      \"properties\": {\n        \"dtype\": \"string\",\n        \"num_unique_values\": 4,\n        \"samples\": [\n          \"Delhi\",\n          \"New York\",\n          \"Mumbai\"\n        ],\n        \"semantic_type\": \"\",\n        \"description\": \"\"\n      }\n    },\n    {\n      \"column\": \"temperature_c\",\n      \"properties\": {\n        \"dtype\": \"number\",\n        \"std\": 14.943945262212386,\n        \"min\": 8.68,\n        \"max\": 42.62,\n        \"num_unique_values\": 4,\n        \"samples\": [\n          42.62,\n          16.31,\n          29.45\n        ],\n        \"semantic_type\": \"\",\n        \"description\": \"\"\n      }\n    },\n    {\n      \"column\": \"humidity_percent\",\n      \"properties\": {\n        \"dtype\": \"number\",\n        \"std\": 39,\n        \"min\": 9,\n        \"max\": 95,\n        \"num_unique_values\": 4,\n        \"samples\": [\n          9,\n          95,\n          76\n        ],\n        \"semantic_type\": \"\",\n        \"description\": \"\"\n      }\n    },\n    {\n      \"column\": \"wind_speed_m_s\",\n      \"properties\": {\n        \"dtype\": \"number\",\n        \"std\": 1.0875201147565043,\n        \"min\": 1.79,\n        \"max\": 4.03,\n        \"num_unique_values\": 4,\n        \"samples\": [\n          3.68,\n          1.79,\n          4.03\n        ],\n        \"semantic_type\": \"\",\n        \"description\": \"\"\n      }\n    },\n    {\n      \"column\": \"weather\",\n      \"properties\": {\n        \"dtype\": \"string\",\n        \"num_unique_values\": 2,\n        \"samples\": [\n          \"Clear\",\n          \"Clouds\"\n        ],\n        \"semantic_type\": \"\",\n        \"description\": \"\"\n      }\n    },\n    {\n      \"column\": \"description\",\n      \"properties\": {\n        \"dtype\": \"string\",\n        \"num_unique_values\": 4,\n        \"samples\": [\n          \"few clouds\",\n          \"scattered clouds\"\n        ],\n        \"semantic_type\": \"\",\n        \"description\": \"\"\n      }\n    },\n    {\n      \"column\": \"datetime_utc\",\n      \"properties\": {\n        \"dtype\": \"object\",\n        \"num_unique_values\": 4,\n        \"samples\": [\n          \"2025-05-16 06:19:32\",\n          \"2025-05-16 06:20:33\"\n        ],\n        \"semantic_type\": \"\",\n        \"description\": \"\"\n      }\n    }\n  ]\n}"
            }
          },
          "metadata": {},
          "execution_count": 20
        }
      ],
      "source": [
        "# Your OpenWeatherMap API key\n",
        "API_KEY = \"2247c8827c0393e8ae7eb97c42183231\"  # Replace with your key\n",
        "\n",
        "BASE_URL = \"https://api.openweathermap.org/data/2.5/weather\"\n",
        "\n",
        "weather_data = []\n",
        "\n",
        "for city in cities_df['city']:\n",
        "    params = {\n",
        "        \"q\": city,\n",
        "        \"appid\": API_KEY,\n",
        "        \"units\": \"metric\"\n",
        "    }\n",
        "    response = requests.get(BASE_URL, params=params)\n",
        "    data = response.json()\n",
        "    if data.get('cod') == 200:\n",
        "        weather_info = {\n",
        "            \"city\": city,\n",
        "            \"temperature_c\": data['main']['temp'],\n",
        "            \"humidity_percent\": data['main']['humidity'],\n",
        "            \"wind_speed_m_s\": data['wind']['speed'],\n",
        "            \"weather\": data['weather'][0]['main'],\n",
        "            \"description\": data['weather'][0]['description'],\n",
        "            \"datetime_utc\": datetime.utcfromtimestamp(data['dt']).strftime('%Y-%m-%d %H:%M:%S')\n",
        "        }\n",
        "        weather_data.append(weather_info)\n",
        "    else:\n",
        "        print(f\"Could not get data for {city}: {data.get('message')}\")\n",
        "\n",
        "# Convert to DataFrame\n",
        "weather_df = pd.DataFrame(weather_data)\n",
        "weather_df.head()"
      ],
      "id": "jnLwWEsHk1qG"
    },
    {
      "cell_type": "markdown",
      "metadata": {
        "id": "V8iLoBN8k1qG"
      },
      "source": [
        "## Save the weather data locally in  repo structure\n",
        "\n"
      ],
      "id": "V8iLoBN8k1qG"
    },
    {
      "cell_type": "code",
      "execution_count": 21,
      "metadata": {
        "id": "ELcVlK2Zk1qG",
        "colab": {
          "base_uri": "https://localhost:8080/"
        },
        "outputId": "8e399575-6874-45bd-f526-6d24bfee73cc"
      },
      "outputs": [
        {
          "output_type": "stream",
          "name": "stdout",
          "text": [
            "Weather data saved to data/live_weather.csv\n"
          ]
        }
      ],
      "source": [
        "weather_df.to_csv(\"data/live_weather.csv\", index=False)\n",
        "print(\"Weather data saved to data/live_weather.csv\")"
      ],
      "id": "ELcVlK2Zk1qG"
    },
    {
      "cell_type": "markdown",
      "metadata": {
        "id": "VmHqqCSVk1qG"
      },
      "source": [
        "## GitHub Integration Commands\n"
      ],
      "id": "VmHqqCSVk1qG"
    },
    {
      "cell_type": "code",
      "execution_count": 22,
      "metadata": {
        "id": "UbbTFkxvk1qH"
      },
      "outputs": [],
      "source": [
        "# GitHub configuration\n",
        "!git config --global user.email \"mahajanom1121@gmail.com\"\n",
        "!git config --global user.name \"mahajanom10\""
      ],
      "id": "UbbTFkxvk1qH"
    },
    {
      "cell_type": "markdown",
      "metadata": {
        "id": "A6CQh-P-k1qH"
      },
      "source": [
        "Clone repo"
      ],
      "id": "A6CQh-P-k1qH"
    },
    {
      "cell_type": "code",
      "execution_count": 23,
      "metadata": {
        "id": "dIY_kZflk1qH",
        "colab": {
          "base_uri": "https://localhost:8080/"
        },
        "outputId": "f6015958-caa2-41a3-b21a-d5ed0018950d"
      },
      "outputs": [
        {
          "output_type": "stream",
          "name": "stdout",
          "text": [
            "Cloning into 'live-weather-dashboard'...\n",
            "remote: Enumerating objects: 82, done.\u001b[K\n",
            "remote: Counting objects: 100% (82/82), done.\u001b[K\n",
            "remote: Compressing objects: 100% (68/68), done.\u001b[K\n",
            "remote: Total 82 (delta 16), reused 0 (delta 0), pack-reused 0 (from 0)\u001b[K\n",
            "Receiving objects: 100% (82/82), 28.32 KiB | 1.42 MiB/s, done.\n",
            "Resolving deltas: 100% (16/16), done.\n"
          ]
        }
      ],
      "source": [
        "!git clone https://github.com/mahajanom10/live-weather-dashboard.git"
      ],
      "id": "dIY_kZflk1qH"
    },
    {
      "cell_type": "markdown",
      "metadata": {
        "id": "WL-4XIRuk1qH"
      },
      "source": [
        "Move to repo folder and pull latest changes:"
      ],
      "id": "WL-4XIRuk1qH"
    },
    {
      "cell_type": "code",
      "execution_count": 24,
      "metadata": {
        "id": "R0hssMUBk1qH",
        "colab": {
          "base_uri": "https://localhost:8080/"
        },
        "outputId": "31553fb7-6ac8-4ea7-fae2-f2b095495581"
      },
      "outputs": [
        {
          "output_type": "stream",
          "name": "stdout",
          "text": [
            "/content/live-weather-dashboard/live-weather-dashboard/live-weather-dashboard/live-weather-dashboard\n",
            "From https://github.com/mahajanom10/live-weather-dashboard\n",
            " * branch            main       -> FETCH_HEAD\n",
            "Already up to date.\n"
          ]
        }
      ],
      "source": [
        "%cd live-weather-dashboard\n",
        "!git pull origin main"
      ],
      "id": "R0hssMUBk1qH"
    },
    {
      "cell_type": "code",
      "execution_count": 25,
      "metadata": {
        "id": "kVr9FpfSk1qI",
        "colab": {
          "base_uri": "https://localhost:8080/"
        },
        "outputId": "92da21f9-d5e1-4af4-8182-db8ec3872386"
      },
      "outputs": [
        {
          "output_type": "stream",
          "name": "stdout",
          "text": [
            "[main c01971e] Add latest live weather data\n",
            " 1 file changed, 5 insertions(+)\n",
            " create mode 100644 data/live_weather.csv\n",
            "fatal: could not read Username for 'https://github.com': No such device or address\n"
          ]
        }
      ],
      "source": [
        "!cp ../data/live_weather.csv ./data/\n",
        "!git add data/live_weather.csv\n",
        "!git commit -m \"Add latest live weather data\"\n",
        "!git push origin main"
      ],
      "id": "kVr9FpfSk1qI"
    }
  ],
  "metadata": {
    "kernelspec": {
      "display_name": "Python 3",
      "language": "python",
      "name": "python3"
    },
    "language_info": {
      "name": "python",
      "version": "3.11"
    },
    "colab": {
      "provenance": [],
      "include_colab_link": true
    }
  },
  "nbformat": 4,
  "nbformat_minor": 5
}