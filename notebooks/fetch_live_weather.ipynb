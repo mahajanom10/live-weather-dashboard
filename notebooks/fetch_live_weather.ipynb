{
 "cells": [
  {
   "cell_type": "markdown",
   "metadata": {},
   "source": [
    "# Live Weather Dashboard Project: Fetch Live Weather Data\n",
    "\n",
    "This notebook fetches live weather data from OpenWeatherMap API for a list of cities, saves the data locally in CSV format, and pushes the changes to your GitHub repository.\n",
    "\n",
    "## Steps:\n",
    "1. Load city list\n",
    "2. Fetch weather data\n",
    "3. Save as CSV\n",
    "4. GitHub integration for pushing changes\n",
    "\n",
    "---"
   ]
  },
  {
   "cell_type": "code",
   "execution_count": null,
   "metadata": {},
   "outputs": [],
   "source": [
    "# Import libraries\n",
    "import requests\n",
    "import pandas as pd\n",
    "from datetime import datetime"
   ]
  },
  {
   "cell_type": "markdown",
   "metadata": {},
   "source": [
    "## Load city list\n",
    "You can maintain your list of cities in a CSV file in your repo, for example: `data/cities.csv`.\n",
    "\n",
    "We will load it directly from GitHub raw URL here."
   ]
  },
  {
   "cell_type": "code",
   "execution_count": null,
   "metadata": {},
   "outputs": [],
   "source": [
    "# Load city list from GitHub raw URL\n",
    "cities_url = \"https://raw.githubusercontent.com/mahajanom10/live-weather-dashboard/main/data/cities.csv\"\n",
    "cities_df = pd.read_csv(cities_url)\n",
    "cities_df.head()"
   ]
  },
  {
   "cell_type": "markdown",
   "metadata": {},
   "source": [
    "## Fetch Weather Data from OpenWeatherMap API\n",
    "\n",
    "Replace `YOUR_API_KEY` with your actual API key.\n",
    "\n",
    "For each city, fetch temperature, humidity, wind speed, weather condition, and timestamp."
   ]
  },
  {
   "cell_type": "code",
   "execution_count": null,
   "metadata": {},
   "outputs": [],
   "source": [
    "# Your OpenWeatherMap API key\n",
    "API_KEY = \"2247c8827c0393e8ae7eb97c42183231\"  # Replace with your key\n",
    "\n",
    "BASE_URL = \"https://api.openweathermap.org/data/2.5/weather\"\n",
    "\n",
    "weather_data = []\n",
    "\n",
    "for city in cities_df['city']:\n",
    "    params = {\n",
    "        \"q\": city,\n",
    "        \"appid\": API_KEY,\n",
    "        \"units\": \"metric\"\n",
    "    }\n",
    "    response = requests.get(BASE_URL, params=params)\n",
    "    data = response.json()\n",
    "    if data.get('cod') == 200:\n",
    "        weather_info = {\n",
    "            \"city\": city,\n",
    "            \"temperature_c\": data['main']['temp'],\n",
    "            \"humidity_percent\": data['main']['humidity'],\n",
    "            \"wind_speed_m_s\": data['wind']['speed'],\n",
    "            \"weather\": data['weather'][0]['main'],\n",
    "            \"description\": data['weather'][0]['description'],\n",
    "            \"datetime_utc\": datetime.utcfromtimestamp(data['dt']).strftime('%Y-%m-%d %H:%M:%S')\n",
    "        }\n",
    "        weather_data.append(weather_info)\n",
    "    else:\n",
    "        print(f\"Could not get data for {city}: {data.get('message')}\")\n",
    "\n",
    "# Convert to DataFrame\n",
    "weather_df = pd.DataFrame(weather_data)\n",
    "weather_df.head()"
   ]
  },
  {
   "cell_type": "markdown",
   "metadata": {},
   "source": [
    "## Save the weather data locally in your repo structure\n",
    "\n",
    "The data folder should already exist in your repo."
   ]
  },
  {
   "cell_type": "code",
   "execution_count": null,
   "metadata": {},
   "outputs": [],
   "source": [
    "weather_df.to_csv(\"data/live_weather.csv\", index=False)\n",
    "print(\"Weather data saved to data/live_weather.csv\")"
   ]
  },
  {
   "cell_type": "markdown",
   "metadata": {},
   "source": [
    "## GitHub Integration Commands\n",
    "\n",
    "Run these commands inside the notebook to push your changes to GitHub.\n",
    "\n",
    "Make sure you have cloned your repo already or run the clone command if not."
   ]
  },
  {
   "cell_type": "code",
   "execution_count": null,
   "metadata": {},
   "outputs": [],
   "source": [
    "# GitHub configuration\n",
    "!git config --global user.email \"mahajanom1121@gmail.com\"\n",
    "!git config --global user.name \"mahajanom10\""
   ]
  },
  {
   "cell_type": "markdown",
   "metadata": {},
   "source": [
    "Clone repo if not done yet:"
   ]
  },
  {
   "cell_type": "code",
   "execution_count": null,
   "metadata": {},
   "outputs": [],
   "source": [
    "!git clone https://github.com/mahajanom10/live-weather-dashboard.git"
   ]
  },
  {
   "cell_type": "markdown",
   "metadata": {},
   "source": [
    "Move to repo folder and pull latest changes:"
   ]
  },
  {
   "cell_type": "code",
   "execution_count": null,
   "metadata": {},
   "outputs": [],
   "source": [
    "%cd live-weather-dashboard\n",
    "!git pull origin main"
   ]
  },
  {
   "cell_type": "markdown",
   "metadata": {},
   "source": [
    "Copy your updated CSV file to the repo folder if needed, stage, commit, and push:"
   ]
  },
  {
   "cell_type": "code",
   "execution_count": null,
   "metadata": {},
   "outputs": [],
   "source": [
    "!cp ../data/live_weather.csv ./data/\n",
    "!git add data/live_weather.csv\n",
    "!git commit -m \"Add latest live weather data\"\n",
    "!git push origin main"
   ]
  }
 ],
 "metadata": {
  "kernelspec": {
   "display_name": "Python 3",
   "language": "python",
   "name": "python3"
  },
  "language_info": {
   "name": "python",
   "version": "3.11"
  }
 },
 "nbformat": 4,
 "nbformat_minor": 5
}
