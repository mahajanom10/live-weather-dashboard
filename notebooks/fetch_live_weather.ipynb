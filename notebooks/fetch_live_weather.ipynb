{
  "cells": [
    {
      "cell_type": "markdown",
      "metadata": {
        "id": "view-in-github",
        "colab_type": "text"
      },
      "source": [
        "<a href=\"https://colab.research.google.com/github/mahajanom10/live-weather-dashboard/blob/main/notebooks/fetch_live_weather.ipynb\" target=\"_parent\"><img src=\"https://colab.research.google.com/assets/colab-badge.svg\" alt=\"Open In Colab\"/></a>"
      ]
    },
    {
      "cell_type": "markdown",
      "metadata": {
        "id": "56dZ-aOdk1qB"
      },
      "source": [
        "# Live Weather Dashboard Project: Fetch Live Weather Data\n",
        "\n",
        "This notebook fetches live weather data from OpenWeatherMap API for a list of cities, saves the data locally in CSV format, and pushes the changes to your GitHub repository.\n",
        "\n",
        "## Steps:\n",
        "1. Load city list\n",
        "2. Fetch weather data\n",
        "3. Save as CSV\n",
        "4. GitHub integration for pushing changes\n",
        "\n",
        "---"
      ],
      "id": "56dZ-aOdk1qB"
    },
    {
      "cell_type": "code",
      "execution_count": null,
      "metadata": {
        "id": "tX5apT6Dk1qE"
      },
      "outputs": [],
      "source": [
        "# Import libraries\n",
        "import requests\n",
        "import pandas as pd\n",
        "from datetime import datetime"
      ],
      "id": "tX5apT6Dk1qE"
    },
    {
      "cell_type": "markdown",
      "metadata": {
        "id": "fjO1h2Wzk1qF"
      },
      "source": [
        "## Load city list\n"
      ],
      "id": "fjO1h2Wzk1qF"
    },
    {
      "cell_type": "code",
      "execution_count": null,
      "metadata": {
        "id": "1AeGgSXgk1qF"
      },
      "outputs": [],
      "source": [
        "# Load city list from GitHub raw URL\n",
        "cities_url = \"https://raw.githubusercontent.com/mahajanom10/live-weather-dashboard/main/data/cities.csv\"\n",
        "cities_df = pd.read_csv(cities_url)\n",
        "cities_df.head()"
      ],
      "id": "1AeGgSXgk1qF"
    },
    {
      "cell_type": "markdown",
      "metadata": {
        "id": "mTa6Asgjk1qG"
      },
      "source": [
        "## Fetch Weather Data from OpenWeatherMap API\n",
        "For each city, fetch temperature, humidity, wind speed, weather condition, and timestamp."
      ],
      "id": "mTa6Asgjk1qG"
    },
    {
      "cell_type": "code",
      "execution_count": null,
      "metadata": {
        "id": "jnLwWEsHk1qG"
      },
      "outputs": [],
      "source": [
        "# Your OpenWeatherMap API key\n",
        "API_KEY = \"2247c8827c0393e8ae7eb97c42183231\"  # Replace with your key\n",
        "\n",
        "BASE_URL = \"https://api.openweathermap.org/data/2.5/weather\"\n",
        "\n",
        "weather_data = []\n",
        "\n",
        "for city in cities_df['city']:\n",
        "    params = {\n",
        "        \"q\": city,\n",
        "        \"appid\": API_KEY,\n",
        "        \"units\": \"metric\"\n",
        "    }\n",
        "    response = requests.get(BASE_URL, params=params)\n",
        "    data = response.json()\n",
        "    if data.get('cod') == 200:\n",
        "        weather_info = {\n",
        "            \"city\": city,\n",
        "            \"temperature_c\": data['main']['temp'],\n",
        "            \"humidity_percent\": data['main']['humidity'],\n",
        "            \"wind_speed_m_s\": data['wind']['speed'],\n",
        "            \"weather\": data['weather'][0]['main'],\n",
        "            \"description\": data['weather'][0]['description'],\n",
        "            \"datetime_utc\": datetime.utcfromtimestamp(data['dt']).strftime('%Y-%m-%d %H:%M:%S')\n",
        "        }\n",
        "        weather_data.append(weather_info)\n",
        "    else:\n",
        "        print(f\"Could not get data for {city}: {data.get('message')}\")\n",
        "\n",
        "# Convert to DataFrame\n",
        "weather_df = pd.DataFrame(weather_data)\n",
        "weather_df.head()"
      ],
      "id": "jnLwWEsHk1qG"
    },
    {
      "cell_type": "markdown",
      "metadata": {
        "id": "V8iLoBN8k1qG"
      },
      "source": [
        "## Save the weather data locally in  repo structure\n",
        "\n"
      ],
      "id": "V8iLoBN8k1qG"
    },
    {
      "cell_type": "code",
      "execution_count": null,
      "metadata": {
        "id": "ELcVlK2Zk1qG"
      },
      "outputs": [],
      "source": [
        "weather_df.to_csv(\"data/live_weather.csv\", index=False)\n",
        "print(\"Weather data saved to data/live_weather.csv\")"
      ],
      "id": "ELcVlK2Zk1qG"
    },
    {
      "cell_type": "markdown",
      "metadata": {
        "id": "VmHqqCSVk1qG"
      },
      "source": [
        "## GitHub Integration Commands\n"
      ],
      "id": "VmHqqCSVk1qG"
    },
    {
      "cell_type": "code",
      "execution_count": null,
      "metadata": {
        "id": "UbbTFkxvk1qH"
      },
      "outputs": [],
      "source": [
        "# GitHub configuration\n",
        "!git config --global user.email \"mahajanom1121@gmail.com\"\n",
        "!git config --global user.name \"mahajanom10\""
      ],
      "id": "UbbTFkxvk1qH"
    },
    {
      "cell_type": "markdown",
      "metadata": {
        "id": "A6CQh-P-k1qH"
      },
      "source": [
        "Clone repo"
      ],
      "id": "A6CQh-P-k1qH"
    },
    {
      "cell_type": "code",
      "execution_count": null,
      "metadata": {
        "id": "dIY_kZflk1qH"
      },
      "outputs": [],
      "source": [
        "!git clone https://github.com/mahajanom10/live-weather-dashboard.git"
      ],
      "id": "dIY_kZflk1qH"
    },
    {
      "cell_type": "markdown",
      "metadata": {
        "id": "WL-4XIRuk1qH"
      },
      "source": [
        "Move to repo folder and pull latest changes:"
      ],
      "id": "WL-4XIRuk1qH"
    },
    {
      "cell_type": "code",
      "execution_count": null,
      "metadata": {
        "id": "R0hssMUBk1qH"
      },
      "outputs": [],
      "source": [
        "%cd live-weather-dashboard\n",
        "!git pull origin main"
      ],
      "id": "R0hssMUBk1qH"
    },
    {
      "cell_type": "code",
      "execution_count": null,
      "metadata": {
        "id": "kVr9FpfSk1qI"
      },
      "outputs": [],
      "source": [
        "!cp ../data/live_weather.csv ./data/\n",
        "!git add data/live_weather.csv\n",
        "!git commit -m \"Add latest live weather data\"\n",
        "!git push origin main"
      ],
      "id": "kVr9FpfSk1qI"
    }
  ],
  "metadata": {
    "kernelspec": {
      "display_name": "Python 3",
      "language": "python",
      "name": "python3"
    },
    "language_info": {
      "name": "python",
      "version": "3.11"
    },
    "colab": {
      "provenance": [],
      "include_colab_link": true
    }
  },
  "nbformat": 4,
  "nbformat_minor": 5
}