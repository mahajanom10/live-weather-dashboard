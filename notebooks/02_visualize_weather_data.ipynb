{
  "nbformat": 4,
  "nbformat_minor": 0,
  "metadata": {
    "colab": {
      "provenance": [],
      "authorship_tag": "ABX9TyNia8Tdunweq9bkSNEqjFx9",
      "include_colab_link": true
    },
    "kernelspec": {
      "name": "python3",
      "display_name": "Python 3"
    },
    "language_info": {
      "name": "python"
    }
  },
  "cells": [
    {
      "cell_type": "markdown",
      "metadata": {
        "id": "view-in-github",
        "colab_type": "text"
      },
      "source": [
        "<a href=\"https://colab.research.google.com/github/mahajanom10/live-weather-dashboard/blob/main/notebooks/02_visualize_weather_data.ipynb\" target=\"_parent\"><img src=\"https://colab.research.google.com/assets/colab-badge.svg\" alt=\"Open In Colab\"/></a>"
      ]
    },
    {
      "cell_type": "markdown",
      "source": [
        "# **2. 📊Creating Static Charts in Python**"
      ],
      "metadata": {
        "id": "EgcSEu06qjWq"
      }
    },
    {
      "cell_type": "markdown",
      "source": [
        "# ✅ Charts we’ll create:\n",
        "Bar chart: Temperature of each city\n",
        "\n",
        "Bar chart: Humidity levels of each city\n",
        "\n",
        "Pie chart: Weather conditions distribution (e.g., Clear, Rain, Clouds)\n",
        "\n",
        "Bar chart: Wind Speed\n"
      ],
      "metadata": {
        "id": "m68M9babrCU0"
      }
    },
    {
      "cell_type": "code",
      "source": [
        "# cloning\n",
        "!git clone https://github.com/mahajanom10/live-weather-dashboard.git\n",
        "\n",
        "# 2. Navigate into the repo\n",
        "%cd live-weather-dashboard\n",
        "\n",
        "!git pull origin main\n"
      ],
      "metadata": {
        "id": "0U3JGcSPq9Mt"
      },
      "execution_count": null,
      "outputs": []
    },
    {
      "cell_type": "code",
      "source": [
        "import pandas as pd\n",
        "import matplotlib.pyplot as plt\n",
        "import seaborn as sns\n",
        "import os"
      ],
      "metadata": {
        "id": "G5Sg1nhkGneY"
      },
      "execution_count": null,
      "outputs": []
    },
    {
      "cell_type": "code",
      "source": [
        "# Load weather data from the repo\n",
        "df = pd.read_csv('data/live_weather.csv')\n",
        "df.head()"
      ],
      "metadata": {
        "id": "KzKUiFl-GsTU"
      },
      "execution_count": null,
      "outputs": []
    },
    {
      "cell_type": "code",
      "source": [
        "# Create output folder for charts\n",
        "output_folder = 'outputs/charts'\n",
        "os.makedirs(output_folder, exist_ok=True)"
      ],
      "metadata": {
        "id": "YSRVVtf-G7s8"
      },
      "execution_count": null,
      "outputs": []
    },
    {
      "cell_type": "code",
      "source": [
        "# Bar chart: Temperature by city\n",
        "plt.figure(figsize=(10, 6))\n",
        "sns.barplot(x='city', y='temperature_c', data=df, palette='bright')\n",
        "plt.title('Temperature (°C) by City')\n",
        "plt.ylabel('Temperature (°C)')\n",
        "plt.xlabel('City')\n",
        "plt.xticks(rotation=45)\n",
        "plt.tight_layout()\n",
        "plt.savefig(f'{output_folder}/temperature_by_city.png')\n",
        "plt.show()"
      ],
      "metadata": {
        "id": "Ld3WWavfG_OS"
      },
      "execution_count": null,
      "outputs": []
    },
    {
      "cell_type": "code",
      "source": [
        "# Bar chart: Humidity by city\n",
        "plt.figure(figsize=(10, 6))\n",
        "sns.barplot(x='city', y='humidity_percent', data=df, palette='Set1')\n",
        "plt.title('Humidity (%) by City')\n",
        "plt.ylabel('Humidity (%)')\n",
        "plt.xlabel('City')\n",
        "plt.xticks(rotation=45)\n",
        "plt.tight_layout()\n",
        "plt.savefig(f'{output_folder}/humidity_by_city.png')\n",
        "plt.show()"
      ],
      "metadata": {
        "id": "lPrceyNlH5Mm"
      },
      "execution_count": null,
      "outputs": []
    },
    {
      "cell_type": "code",
      "source": [
        "# Bar chart: Wind Speed by city\n",
        "plt.figure(figsize=(10, 6))\n",
        "sns.barplot(x='city', y='wind_speed_m_s', data=df, palette='crest')\n",
        "plt.title('Wind Speed (m/s) by City')\n",
        "plt.ylabel('Wind Speed (m/s)')\n",
        "plt.xlabel('City')\n",
        "plt.xticks(rotation=45)\n",
        "plt.tight_layout()\n",
        "plt.savefig(f'{output_folder}/wind_speed_by_city.png')\n",
        "plt.show()\n"
      ],
      "metadata": {
        "id": "1OSBFDG0IdVW"
      },
      "execution_count": null,
      "outputs": []
    },
    {
      "cell_type": "code",
      "source": [
        "# Pie chart: Weather conditions distribution\n",
        "weather_counts = df['weather'].value_counts()\n",
        "plt.figure(figsize=(8, 8))\n",
        "plt.pie(weather_counts, labels=weather_counts.index, autopct='%1.1f%%', startangle=140, colors=sns.color_palette('bright'))\n",
        "plt.title('Weather Condition Distribution')\n",
        "plt.savefig(f'{output_folder}/weather_condition_distribution.png')\n",
        "plt.show()"
      ],
      "metadata": {
        "id": "NzlNNU5mIv_R"
      },
      "execution_count": null,
      "outputs": []
    },
    {
      "cell_type": "code",
      "source": [
        "!git config --global user.email \"mahajanom1121@gmail.com\"\n",
        "!git config --global user.name \"mahajanom10\"\n"
      ],
      "metadata": {
        "id": "Caw4v3g_JGEn"
      },
      "execution_count": 20,
      "outputs": []
    },
    {
      "cell_type": "code",
      "source": [
        "import os\n",
        "\n",
        "charts_path = \"outputs/charts\"\n",
        "print(\"Charts found:\", os.listdir(charts_path))\n"
      ],
      "metadata": {
        "id": "D2v8wsoaJ2-c",
        "outputId": "e70c6925-7e2c-4eb6-9258-b132f5ffd1fd",
        "colab": {
          "base_uri": "https://localhost:8080/"
        }
      },
      "execution_count": 21,
      "outputs": [
        {
          "output_type": "stream",
          "name": "stdout",
          "text": [
            "Charts found: ['wind_speed_by_city.png', 'pathword.txt', 'weather_condition_distribution.png', 'humidity_by_city.png', 'temperature_by_city.png']\n"
          ]
        }
      ]
    },
    {
      "cell_type": "code",
      "source": [
        "!git add outputs/charts/*.png\n",
        "!git commit -m \"Add weather visualization charts\"\n",
        "\n"
      ],
      "metadata": {
        "id": "wAN9EB6VJ6vK",
        "outputId": "38867c65-2355-4496-f89b-b60ecca1f1f4",
        "colab": {
          "base_uri": "https://localhost:8080/"
        }
      },
      "execution_count": 24,
      "outputs": [
        {
          "output_type": "stream",
          "name": "stdout",
          "text": [
            "On branch main\n",
            "Your branch is ahead of 'origin/main' by 1 commit.\n",
            "  (use \"git push\" to publish your local commits)\n",
            "\n",
            "nothing to commit, working tree clean\n"
          ]
        }
      ]
    },
    {
      "cell_type": "code",
      "source": [
        "!git push origin main"
      ],
      "metadata": {
        "id": "cW1HJtIfKBo7",
        "outputId": "05343561-a302-4bce-df6e-eec3801eb02a",
        "colab": {
          "base_uri": "https://localhost:8080/"
        }
      },
      "execution_count": 25,
      "outputs": [
        {
          "output_type": "stream",
          "name": "stdout",
          "text": [
            "fatal: could not read Username for 'https://github.com': No such device or address\n"
          ]
        }
      ]
    }
  ]
}